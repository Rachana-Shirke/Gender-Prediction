{
 "cells": [
  {
   "cell_type": "markdown",
   "id": "99f0e4f7-7de2-4954-a024-1f8a31051919",
   "metadata": {},
   "source": [
    "# NLP \n",
    "\n",
    "# Assignment 1"
   ]
  },
  {
   "cell_type": "markdown",
   "id": "8223f795-d383-4ac4-9e17-9d8e1e0ed4f1",
   "metadata": {},
   "source": [
    "# Name : Rachana Ramesh Shirke \n",
    "\n",
    "# PRN : 23070243068\n",
    "\n",
    "# Date : 21/10/2024\n"
   ]
  },
  {
   "cell_type": "markdown",
   "id": "48d9fc33-c961-4016-8617-a9e22c5dbb4a",
   "metadata": {},
   "source": [
    "# Title – Gender Prediction\n",
    "\n",
    "Desc: Given a labelled dataset of names (Male, Female), write a program which can predict for an unknown sample, whether it is a female name or a male name.\n",
    "\n",
    "Variations:\n",
    "\n",
    "   * Using NLTK, one feature (last letter of each name), Naïve Bayes\n",
    "   * Using NLTK, two features (last letter, last 2 letters), Naïve Bayes\n",
    "   * Add more names to the training dataset (use other public datasets), NLTK, Naïve Bayes\n",
    "   * Implement and compare with Classifiers of Spacy and SKLearn\n",
    "   * Summarize your observations and inferences"
   ]
  },
  {
   "cell_type": "markdown",
   "id": "fde585e6-a8e0-425b-aa78-df2455ee4b5e",
   "metadata": {},
   "source": [
    "# Step 1: Install Required Libraries and Import"
   ]
  },
  {
   "cell_type": "code",
   "execution_count": 37,
   "id": "048bb13b-d28c-4f33-8555-d160037c6ec8",
   "metadata": {},
   "outputs": [],
   "source": [
    "# Import required libraries\n",
    "import nltk\n",
    "from nltk.corpus import names\n",
    "import random\n",
    "from sklearn.model_selection import train_test_split\n",
    "from sklearn.feature_extraction import DictVectorizer\n",
    "from sklearn.naive_bayes import MultinomialNB\n",
    "from sklearn.metrics import accuracy_score, classification_report\n",
    "import spacy\n",
    "from spacy.training.example import Example\n",
    "from spacy.pipeline.textcat import Config\n",
    "\n"
   ]
  },
  {
   "cell_type": "markdown",
   "id": "58e898d6-aaa9-42f2-adb1-3f61e07b8af4",
   "metadata": {},
   "source": [
    "#  Download NLTK dataset"
   ]
  },
  {
   "cell_type": "code",
   "execution_count": 38,
   "id": "3f7f2b73-1c23-4afd-86a8-519f9687e58c",
   "metadata": {},
   "outputs": [
    {
     "name": "stderr",
     "output_type": "stream",
     "text": [
      "[nltk_data] Downloading package names to\n",
      "[nltk_data]     C:\\Users\\Admin\\AppData\\Roaming\\nltk_data...\n",
      "[nltk_data]   Package names is already up-to-date!\n"
     ]
    },
    {
     "data": {
      "text/plain": [
       "True"
      ]
     },
     "execution_count": 38,
     "metadata": {},
     "output_type": "execute_result"
    }
   ],
   "source": [
    "# Download NLTK dataset if not already done\n",
    "nltk.download('names')\n"
   ]
  },
  {
   "cell_type": "markdown",
   "id": "b73c91f6-9f1d-45e3-8c8a-0277b5ef8ae9",
   "metadata": {},
   "source": [
    "# Step 2: Load the Dataset"
   ]
  },
  {
   "cell_type": "code",
   "execution_count": 40,
   "id": "bb476720-618d-4354-bab4-5c20c6163ad8",
   "metadata": {},
   "outputs": [
    {
     "name": "stdout",
     "output_type": "stream",
     "text": [
      "Number of male names: 2943\n",
      "Number of female names: 5001\n"
     ]
    }
   ],
   "source": [
    "# Load male and female names from NLTK\n",
    "male_names = [(name, 'male') for name in names.words('male.txt')]\n",
    "female_names = [(name, 'female') for name in names.words('female.txt')]\n",
    "\n",
    "# Combine and shuffle the dataset\n",
    "labeled_names = male_names + female_names\n",
    "random.shuffle(labeled_names)\n",
    "\n",
    "# Print dataset size\n",
    "print(f\"Number of male names: {len(male_names)}\")\n",
    "print(f\"Number of female names: {len(female_names)}\")\n"
   ]
  },
  {
   "cell_type": "markdown",
   "id": "b9cc9cbf-5a48-4c66-ad9f-c9e9d15d5be2",
   "metadata": {},
   "source": [
    "# Step 3: Define Feature Extraction Function"
   ]
  },
  {
   "cell_type": "code",
   "execution_count": 42,
   "id": "20295116-60a4-4c26-99af-a69353f93427",
   "metadata": {},
   "outputs": [],
   "source": [
    "# Define a feature extraction function\n",
    "def extract_features(name, num_letters=1):\n",
    "    \"\"\"Extract features based on the last 'num_letters' of the name.\"\"\"\n",
    "    features = {}\n",
    "    if num_letters >= 1:\n",
    "        features['last_letter'] = name[-1].lower()  # Last letter\n",
    "    if num_letters >= 2:\n",
    "        features['last_two_letters'] = name[-2:].lower()  # Last two letters\n",
    "    return features\n"
   ]
  },
  {
   "cell_type": "markdown",
   "id": "c8190243-207f-417a-8862-dea3c14ce2fa",
   "metadata": {},
   "source": [
    "# Step 4:Train Naïve Bayes with Different Features"
   ]
  },
  {
   "cell_type": "markdown",
   "id": "a3efbe29-6797-4b7b-b593-2c1cb146d9c2",
   "metadata": {},
   "source": [
    "# (a) Using only the last letter"
   ]
  },
  {
   "cell_type": "code",
   "execution_count": 59,
   "id": "6c084cc6-5778-49b3-89d5-7356bc04eee9",
   "metadata": {},
   "outputs": [
    {
     "name": "stdout",
     "output_type": "stream",
     "text": [
      "Naïve Bayes (Last Letter Only) - sklearn:\n",
      "Accuracy: 0.7614276768941766\n",
      "              precision    recall  f1-score   support\n",
      "\n",
      "      female       0.81      0.82      0.82      1023\n",
      "        male       0.67      0.65      0.66       574\n",
      "\n",
      "    accuracy                           0.76      1597\n",
      "   macro avg       0.74      0.74      0.74      1597\n",
      "weighted avg       0.76      0.76      0.76      1597\n",
      "\n"
     ]
    }
   ],
   "source": [
    "# Extract features using last letter\n",
    "featuresets_last1 = [(extract_features(name, num_letters=1), gender) for (name, gender) in labeled_names]\n",
    "\n",
    "# Split into train and test sets\n",
    "train_set1, test_set1 = train_test_split(featuresets_last1, test_size=0.2, random_state=42)\n",
    "train_features1, train_labels1 = zip(*train_set1)\n",
    "test_features1, test_labels1 = zip(*test_set1)\n",
    "\n",
    "# Convert features into numerical format\n",
    "vectorizer1 = DictVectorizer(sparse=False)\n",
    "train_features_vectorized1 = vectorizer1.fit_transform(train_features1)\n",
    "test_features_vectorized1 = vectorizer1.transform(test_features1)\n",
    "\n",
    "# Train Naïve Bayes Classifier\n",
    "nb_classifier1 = MultinomialNB()\n",
    "nb_classifier1.fit(train_features_vectorized1, train_labels1)\n",
    "nb_predictions1 = nb_classifier1.predict(test_features_vectorized1)\n",
    "\n",
    "# Report Accuracy\n",
    "print(\"Naïve Bayes (Last Letter Only) - sklearn:\")\n",
    "print(\"Accuracy:\", accuracy_score(test_labels1, nb_predictions1))\n",
    "print(classification_report(test_labels1, nb_predictions1))"
   ]
  },
  {
   "cell_type": "markdown",
   "id": "962359a7-d29a-4b07-94f8-d4cd7572a3c9",
   "metadata": {},
   "source": [
    "# (b) Using the last two letters"
   ]
  },
  {
   "cell_type": "code",
   "execution_count": 60,
   "id": "bf103f68-21a6-43a1-aa4d-5d6bd7c160d7",
   "metadata": {},
   "outputs": [
    {
     "name": "stdout",
     "output_type": "stream",
     "text": [
      "Naïve Bayes (Last Two Letters) - sklearn:\n",
      "Accuracy: 0.7827175954915466\n",
      "              precision    recall  f1-score   support\n",
      "\n",
      "      female       0.85      0.81      0.83      1023\n",
      "        male       0.68      0.74      0.71       574\n",
      "\n",
      "    accuracy                           0.78      1597\n",
      "   macro avg       0.76      0.77      0.77      1597\n",
      "weighted avg       0.79      0.78      0.78      1597\n",
      "\n"
     ]
    }
   ],
   "source": [
    "# Extract features using last two letters\n",
    "featuresets_last2 = [(extract_features(name, num_letters=2), gender) for (name, gender) in labeled_names]\n",
    "\n",
    "# Split into train and test sets\n",
    "train_set2, test_set2 = train_test_split(featuresets_last2, test_size=0.2, random_state=42)\n",
    "train_features2, train_labels2 = zip(*train_set2)\n",
    "test_features2, test_labels2 = zip(*test_set2)\n",
    "\n",
    "# Convert features into numerical format\n",
    "vectorizer2 = DictVectorizer(sparse=False)\n",
    "train_features_vectorized2 = vectorizer2.fit_transform(train_features2)\n",
    "test_features_vectorized2 = vectorizer2.transform(test_features2)\n",
    "\n",
    "# Train Naïve Bayes Classifier\n",
    "nb_classifier2 = MultinomialNB()\n",
    "nb_classifier2.fit(train_features_vectorized2, train_labels2)\n",
    "nb_predictions2 = nb_classifier2.predict(test_features_vectorized2)\n",
    "\n",
    "# Report Accuracy\n",
    "print(\"Naïve Bayes (Last Two Letters) - sklearn:\")\n",
    "print(\"Accuracy:\", accuracy_score(test_labels2, nb_predictions2))\n",
    "print(classification_report(test_labels2, nb_predictions2))\n"
   ]
  },
  {
   "cell_type": "markdown",
   "id": "f355838f-1025-468c-8e3d-884dd4bd0abb",
   "metadata": {},
   "source": [
    "# Step 5:  Adding More Names to the Dataset"
   ]
  },
  {
   "cell_type": "code",
   "execution_count": 49,
   "id": "d13f306a-3c36-43c7-823e-87f09a4217f9",
   "metadata": {},
   "outputs": [],
   "source": [
    "import pandas as pd\n",
    "additional_data = pd.read_csv(\"C:\\\\Users\\\\Admin\\\\Downloads\\\\additional_names.csv\")\n",
    "\n",
    "additional_names = [(row['name'], row['gender']) for _, row in additional_data.iterrows()]\n",
    "\n",
    "# Extend and shuffle the dataset\n",
    "labeled_names.extend(additional_names)\n",
    "random.shuffle(labeled_names)"
   ]
  },
  {
   "cell_type": "code",
   "execution_count": 53,
   "id": "6e436a54-d335-4492-ab3d-310b21946b07",
   "metadata": {},
   "outputs": [
    {
     "name": "stdout",
     "output_type": "stream",
     "text": [
      "Naïve Bayes (Last Letter Only - Extended Dataset):\n",
      "Accuracy: 0.7614276768941766\n",
      "              precision    recall  f1-score   support\n",
      "\n",
      "      female       0.81      0.82      0.82      1023\n",
      "        male       0.67      0.65      0.66       574\n",
      "\n",
      "    accuracy                           0.76      1597\n",
      "   macro avg       0.74      0.74      0.74      1597\n",
      "weighted avg       0.76      0.76      0.76      1597\n",
      "\n"
     ]
    }
   ],
   "source": [
    "# (a) Using only the last letter with the extended dataset\n",
    "# Extract features using only the last letter\n",
    "featuresets_last1_extended = [(extract_features(name, num_letters=1), gender) for (name, gender) in labeled_names]\n",
    "\n",
    "# Split into train and test sets\n",
    "train_set1_extended, test_set1_extended = train_test_split(featuresets_last1_extended, test_size=0.2, random_state=42)\n",
    "train_features1_extended, train_labels1_extended = zip(*train_set1_extended)\n",
    "test_features1_extended, test_labels1_extended = zip(*test_set1_extended)\n",
    "\n",
    "# Convert features into numerical format\n",
    "train_features_vectorized1_extended = vectorizer1.fit_transform(train_features1_extended)\n",
    "test_features_vectorized1_extended = vectorizer1.transform(test_features1_extended)\n",
    "\n",
    "# Train Naïve Bayes Classifier\n",
    "nb_classifier1_extended = MultinomialNB()\n",
    "nb_classifier1_extended.fit(train_features_vectorized1_extended, train_labels1_extended)\n",
    "nb_predictions1_extended = nb_classifier1_extended.predict(test_features_vectorized1_extended)\n",
    "\n",
    "# Report Accuracy for the extended dataset (Last Letter Only)\n",
    "print(\"Naïve Bayes (Last Letter Only - Extended Dataset):\")\n",
    "print(\"Accuracy:\", accuracy_score(test_labels1_extended, nb_predictions1_extended))\n",
    "print(classification_report(test_labels1_extended, nb_predictions1_extended))"
   ]
  },
  {
   "cell_type": "code",
   "execution_count": 54,
   "id": "ef201447-66c5-43ca-9663-4c0997c3f5bf",
   "metadata": {},
   "outputs": [
    {
     "name": "stdout",
     "output_type": "stream",
     "text": [
      "Naïve Bayes (Last Two Letters - Extended Dataset):\n",
      "Accuracy: 0.7827175954915466\n",
      "              precision    recall  f1-score   support\n",
      "\n",
      "      female       0.85      0.81      0.83      1023\n",
      "        male       0.68      0.74      0.71       574\n",
      "\n",
      "    accuracy                           0.78      1597\n",
      "   macro avg       0.76      0.77      0.77      1597\n",
      "weighted avg       0.79      0.78      0.78      1597\n",
      "\n"
     ]
    }
   ],
   "source": [
    "# (b) Using the last two letters with the extended dataset\n",
    "# Extract features using last two letters\n",
    "featuresets_last2_extended = [(extract_features(name, num_letters=2), gender) for (name, gender) in labeled_names]\n",
    "\n",
    "# Split into train and test sets\n",
    "train_set2_extended, test_set2_extended = train_test_split(featuresets_last2_extended, test_size=0.2, random_state=42)\n",
    "train_features2_extended, train_labels2_extended = zip(*train_set2_extended)\n",
    "test_features2_extended, test_labels2_extended = zip(*test_set2_extended)\n",
    "\n",
    "# Convert features into numerical format\n",
    "train_features_vectorized2_extended = vectorizer2.fit_transform(train_features2_extended)\n",
    "test_features_vectorized2_extended = vectorizer2.transform(test_features2_extended)\n",
    "\n",
    "# Train Naïve Bayes Classifier\n",
    "nb_classifier2_extended = MultinomialNB()\n",
    "nb_classifier2_extended.fit(train_features_vectorized2_extended, train_labels2_extended)\n",
    "nb_predictions2_extended = nb_classifier2_extended.predict(test_features_vectorized2_extended)\n",
    "\n",
    "# Report Accuracy for the extended dataset (Last Two Letters)\n",
    "print(\"Naïve Bayes (Last Two Letters - Extended Dataset):\")\n",
    "print(\"Accuracy:\", accuracy_score(test_labels2_extended, nb_predictions2_extended))\n",
    "print(classification_report(test_labels2_extended, nb_predictions2_extended))"
   ]
  },
  {
   "cell_type": "markdown",
   "id": "76760a58-e72c-48ec-991c-0e2b2b3d1727",
   "metadata": {},
   "source": [
    "# Step 6: Implement and compare with Classifiers of Spacy and SKLearn"
   ]
  },
  {
   "cell_type": "markdown",
   "id": "c6ac0bc7-bb6f-495a-9fae-9129ec7a1a18",
   "metadata": {},
   "source": [
    "#  Train the spaCy Classifier\n"
   ]
  },
  {
   "cell_type": "code",
   "execution_count": 58,
   "id": "ee5cca02-6db3-4412-b7aa-8e83b2fbf508",
   "metadata": {},
   "outputs": [
    {
     "name": "stdout",
     "output_type": "stream",
     "text": [
      "Naïve Bayes (Last Letter Only) - sklearn:\n",
      "Accuracy: 0.7614276768941766\n",
      "              precision    recall  f1-score   support\n",
      "\n",
      "      female       0.81      0.82      0.82      1023\n",
      "        male       0.67      0.65      0.66       574\n",
      "\n",
      "    accuracy                           0.76      1597\n",
      "   macro avg       0.74      0.74      0.74      1597\n",
      "weighted avg       0.76      0.76      0.76      1597\n",
      "\n",
      "Naïve Bayes (Last Two Letters) - sklearn:\n",
      "Accuracy: 0.7827175954915466\n",
      "              precision    recall  f1-score   support\n",
      "\n",
      "      female       0.85      0.81      0.83      1023\n",
      "        male       0.68      0.74      0.71       574\n",
      "\n",
      "    accuracy                           0.78      1597\n",
      "   macro avg       0.76      0.77      0.77      1597\n",
      "weighted avg       0.79      0.78      0.78      1597\n",
      "\n",
      "Epoch 0, Loss: 224.65418903157115\n",
      "Epoch 1, Loss: 180.11902240663767\n",
      "Epoch 2, Loss: 154.75018061348237\n",
      "Epoch 3, Loss: 136.8856009489391\n",
      "Epoch 4, Loss: 124.35081782884663\n",
      "Epoch 5, Loss: 113.51321086096868\n",
      "Epoch 6, Loss: 106.08521610678872\n",
      "Epoch 7, Loss: 101.2938271984167\n",
      "Epoch 8, Loss: 95.03545180856781\n",
      "Epoch 9, Loss: 89.45691467491633\n",
      "spaCy Classifier Accuracy: 0.9100\n"
     ]
    }
   ],
   "source": [
    "# Extract features using last letter\n",
    "featuresets_last1 = [(extract_features(name, num_letters=1), gender) for (name, gender) in labeled_names]\n",
    "\n",
    "# Split into train and test sets\n",
    "train_set1, test_set1 = train_test_split(featuresets_last1, test_size=0.2, random_state=42)\n",
    "train_features1, train_labels1 = zip(*train_set1)\n",
    "test_features1, test_labels1 = zip(*test_set1)\n",
    "\n",
    "# Convert features into numerical format\n",
    "vectorizer1 = DictVectorizer(sparse=False)\n",
    "train_features_vectorized1 = vectorizer1.fit_transform(train_features1)\n",
    "test_features_vectorized1 = vectorizer1.transform(test_features1)\n",
    "\n",
    "# Train Naïve Bayes Classifier\n",
    "nb_classifier1 = MultinomialNB()\n",
    "nb_classifier1.fit(train_features_vectorized1, train_labels1)\n",
    "nb_predictions1 = nb_classifier1.predict(test_features_vectorized1)\n",
    "\n",
    "# Report Accuracy\n",
    "print(\"Naïve Bayes (Last Letter Only) - sklearn:\")\n",
    "print(\"Accuracy:\", accuracy_score(test_labels1, nb_predictions1))\n",
    "print(classification_report(test_labels1, nb_predictions1))\n",
    "\n",
    "# Extract features using last two letters\n",
    "featuresets_last2 = [(extract_features(name, num_letters=2), gender) for (name, gender) in labeled_names]\n",
    "\n",
    "# Split into train and test sets\n",
    "train_set2, test_set2 = train_test_split(featuresets_last2, test_size=0.2, random_state=42)\n",
    "train_features2, train_labels2 = zip(*train_set2)\n",
    "test_features2, test_labels2 = zip(*test_set2)\n",
    "\n",
    "# Convert features into numerical format\n",
    "vectorizer2 = DictVectorizer(sparse=False)\n",
    "train_features_vectorized2 = vectorizer2.fit_transform(train_features2)\n",
    "test_features_vectorized2 = vectorizer2.transform(test_features2)\n",
    "\n",
    "# Train Naïve Bayes Classifier\n",
    "nb_classifier2 = MultinomialNB()\n",
    "nb_classifier2.fit(train_features_vectorized2, train_labels2)\n",
    "nb_predictions2 = nb_classifier2.predict(test_features_vectorized2)\n",
    "\n",
    "# Report Accuracy\n",
    "print(\"Naïve Bayes (Last Two Letters) - sklearn:\")\n",
    "print(\"Accuracy:\", accuracy_score(test_labels2, nb_predictions2))\n",
    "print(classification_report(test_labels2, nb_predictions2))\n",
    "\n",
    "# spaCy implementation\n",
    "# Load spaCy model\n",
    "nlp = spacy.blank(\"en\")\n",
    "\n",
    "# Set up the TextClassifier pipeline component\n",
    "textcat = nlp.add_pipe(\"textcat\", config=Config(), last=True)\n",
    "textcat.add_label(\"male\")\n",
    "textcat.add_label(\"female\")\n",
    "\n",
    "# Prepare spaCy training data\n",
    "train_set_spacy = [(name, {'cats': {'male': 1 if gender == 'male' else 0, 'female': 1 if gender == 'female' else 0}})\n",
    "                   for name, gender in labeled_names]\n",
    "\n",
    "# Training the spaCy model\n",
    "optimizer = nlp.begin_training()\n",
    "\n",
    "# Train for 10 epochs\n",
    "for epoch in range(10):\n",
    "    random.shuffle(train_set_spacy)\n",
    "    losses = {}\n",
    "    for batch in spacy.util.minibatch(train_set_spacy, size=8):\n",
    "        texts, annotations = zip(*batch)\n",
    "        examples = [Example.from_dict(nlp.make_doc(text), annotation) for text, annotation in zip(texts, annotations)]\n",
    "        nlp.update(examples, drop=0.5, losses=losses)\n",
    "    print(f\"Epoch {epoch}, Loss: {losses['textcat']}\")\n",
    "\n",
    "# Evaluate spaCy model\n",
    "correct = 0\n",
    "for name, true_label in train_set_spacy[:100]:  # Test on the first 100 names for simplicity\n",
    "    doc = nlp(name)\n",
    "    predicted_label = max(doc.cats, key=doc.cats.get)\n",
    "    correct += (predicted_label == ('male' if true_label['cats']['male'] == 1 else 'female'))\n",
    "\n",
    "spaCy_accuracy = correct / 100  # Assuming you're evaluating on 100 names\n",
    "print(f\"spaCy Classifier Accuracy: {spaCy_accuracy:.4f}\")"
   ]
  },
  {
   "cell_type": "markdown",
   "id": "9396594e-b63b-49f0-8b9b-c5b8eb4aa545",
   "metadata": {},
   "source": [
    "# Plot"
   ]
  },
  {
   "cell_type": "code",
   "execution_count": 68,
   "id": "87c9e05b-6a93-483c-8c36-f63dca3ecea3",
   "metadata": {},
   "outputs": [
    {
     "data": {
      "image/png": "[encoded data removed]",
      "text/plain": [
       "<Figure size 1500x500 with 6 Axes>"
      ]
     },
     "metadata": {},
     "output_type": "display_data"
    }
   ],
   "source": [
    "import seaborn as sns\n",
    "import matplotlib.pyplot as plt\n",
    "from sklearn.metrics import confusion_matrix\n",
    "\n",
    "# 1. Confusion Matrix for Naïve Bayes (Last Letter Only)\n",
    "cm_nb1 = confusion_matrix(test_labels1, nb_predictions1, labels=['male', 'female'])\n",
    "\n",
    "# 2. Confusion Matrix for Naïve Bayes (Last Two Letters)\n",
    "cm_nb2 = confusion_matrix(test_labels2, nb_predictions2, labels=['male', 'female'])\n",
    "\n",
    "# 3. Confusion Matrix for spaCy (Using the first 100 test cases)\n",
    "spacy_predictions = []\n",
    "for name, true_label in train_set_spacy[:100]:\n",
    "    doc = nlp(name)\n",
    "    predicted_label = max(doc.cats, key=doc.cats.get)\n",
    "    spacy_predictions.append(predicted_label)\n",
    "\n",
    "cm_spacy = confusion_matrix([true_label['cats']['male'] == 1 for name, true_label in train_set_spacy[:100]],\n",
    "                            [1 if label == 'male' else 0 for label in spacy_predictions], labels=[0, 1])\n",
    "\n",
    "# 4. Plot Heatmaps for the Confusion Matrices\n",
    "fig, axes = plt.subplots(1, 3, figsize=(15, 5))\n",
    "\n",
    "# Plot Naïve Bayes (Last Letter)\n",
    "sns.heatmap(cm_nb1, annot=True, fmt=\"d\", cmap='Blues', xticklabels=['male', 'female'], yticklabels=['male', 'female'], ax=axes[0])\n",
    "axes[0].set_title(\"Naïve Bayes (Last Letter Only)\")\n",
    "\n",
    "# Plot Naïve Bayes (Last Two Letters)\n",
    "sns.heatmap(cm_nb2, annot=True, fmt=\"d\", cmap='Blues', xticklabels=['male', 'female'], yticklabels=['male', 'female'], ax=axes[1])\n",
    "axes[1].set_title(\"Naïve Bayes (Last Two Letters)\")\n",
    "\n",
    "# Plot spaCy Classifier\n",
    "sns.heatmap(cm_spacy, annot=True, fmt=\"d\", cmap='Blues', xticklabels=['male', 'female'], yticklabels=['male', 'female'], ax=axes[2])\n",
    "axes[2].set_title(\"spaCy Classifier\")\n",
    "\n",
    "plt.tight_layout()\n",
    "plt.show()\n"
   ]
  },
  {
   "cell_type": "markdown",
   "id": "1c91ebed-4b55-40e4-8b8f-0ba40fc621da",
   "metadata": {},
   "source": [
    "# Train the scikit-learn Classifier (Naïve Bayes)"
   ]
  },
  {
   "cell_type": "code",
   "execution_count": 61,
   "id": "94ee6681-d6c8-4351-a1ee-35dc86a03d5d",
   "metadata": {},
   "outputs": [
    {
     "name": "stdout",
     "output_type": "stream",
     "text": [
      "Naïve Bayes (SKlearn) Accuracy: 0.7614276768941766\n"
     ]
    }
   ],
   "source": [
    "# Re-run Naïve Bayes with the extended dataset as shown before\n",
    "# For Naïve Bayes using the last letter (num_letters=1)\n",
    "featuresets_last1_extended = [(extract_features(name, num_letters=1), gender) for (name, gender) in labeled_names]\n",
    "train_set1_extended, test_set1_extended = train_test_split(featuresets_last1_extended, test_size=0.2, random_state=42)\n",
    "train_features1_extended, train_labels1_extended = zip(*train_set1_extended)\n",
    "test_features1_extended, test_labels1_extended = zip(*test_set1_extended)\n",
    "train_features_vectorized1_extended = vectorizer1.fit_transform(train_features1_extended)\n",
    "test_features_vectorized1_extended = vectorizer1.transform(test_features1_extended)\n",
    "\n",
    "nb_classifier1_extended = MultinomialNB()\n",
    "nb_classifier1_extended.fit(train_features_vectorized1_extended, train_labels1_extended)\n",
    "nb_predictions1_extended = nb_classifier1_extended.predict(test_features_vectorized1_extended)\n",
    "\n",
    "# Accuracy for Naïve Bayes (Last Letter Only - Extended Dataset)\n",
    "sklearn_accuracy = accuracy_score(test_labels1_extended, nb_predictions1_extended)\n",
    "print(f\"Naïve Bayes (SKlearn) Accuracy: {sklearn_accuracy}\")\n"
   ]
  },
  {
   "cell_type": "markdown",
   "id": "5083f40b-7c8e-4d60-b5c6-ddb0375fa972",
   "metadata": {},
   "source": [
    "# Plot "
   ]
  },
  {
   "cell_type": "code",
   "execution_count": 69,
   "id": "209e546e-52f6-4a74-a942-e21f95a1887c",
   "metadata": {},
   "outputs": [
    {
     "data": {
      "image/png": "[encoded data removed]",
      "text/plain": [
       "<Figure size 600x500 with 1 Axes>"
      ]
     },
     "metadata": {},
     "output_type": "display_data"
    }
   ],
   "source": [
    "import seaborn as sns\n",
    "import matplotlib.pyplot as plt\n",
    "from sklearn.metrics import confusion_matrix\n",
    "\n",
    "# Generate confusion matrix for Naïve Bayes (Last Letter Only - Extended Dataset)\n",
    "cm_nb1_extended = confusion_matrix(test_labels1_extended, nb_predictions1_extended, labels=['male', 'female'])\n",
    "\n",
    "# Plot heatmap for Naïve Bayes (Last Letter Only - Extended Dataset)\n",
    "plt.figure(figsize=(6, 5))\n",
    "sns.heatmap(cm_nb1_extended, annot=True, fmt=\"d\", cmap='Blues', xticklabels=['male', 'female'], yticklabels=['male', 'female'], cbar=False)\n",
    "plt.title(\"Naïve Bayes (Last Letter Only) - Extended Dataset\")\n",
    "plt.xlabel(\"Predicted\")\n",
    "plt.ylabel(\"Actual\")\n",
    "plt.show()\n"
   ]
  },
  {
   "cell_type": "markdown",
   "id": "96b38aeb-889e-45ae-9bf9-3102afe96af1",
   "metadata": {},
   "source": [
    "# Compare the Classifiers"
   ]
  },
  {
   "cell_type": "code",
   "execution_count": 64,
   "id": "b08b09a6-5901-49cb-b128-bd7b7b7fbcfd",
   "metadata": {},
   "outputs": [
    {
     "name": "stdout",
     "output_type": "stream",
     "text": [
      "spaCy Classifier Accuracy: 0.9100\n",
      "Naïve Bayes (SKlearn) Accuracy: 0.7614276768941766\n"
     ]
    }
   ],
   "source": [
    "# Output the results\n",
    "print(f\"spaCy Classifier Accuracy: {spaCy_accuracy:.4f}\")\n",
    "print(f\"Naïve Bayes (SKlearn) Accuracy: {sklearn_accuracy}\")\n"
   ]
  },
  {
   "cell_type": "code",
   "execution_count": 65,
   "id": "b1ddd606-35b1-4179-87f8-84ebbc67d1cf",
   "metadata": {},
   "outputs": [
    {
     "data": {
      "image/png": "[encoded data removed]",
      "text/plain": [
       "<Figure size 800x600 with 1 Axes>"
      ]
     },
     "metadata": {},
     "output_type": "display_data"
    }
   ],
   "source": [
    "import matplotlib.pyplot as plt\n",
    "\n",
    "# Accuracy values for the classifiers\n",
    "classifiers = ['spaCy Classifier', 'Naïve Bayes (SKlearn)']\n",
    "accuracies = [0.9100, 0.7614]\n",
    "\n",
    "# Create the bar plot\n",
    "plt.figure(figsize=(8, 6))\n",
    "plt.bar(classifiers, accuracies, color=['blue', 'green'])\n",
    "\n",
    "# Add labels and title\n",
    "plt.xlabel('Classifier')\n",
    "plt.ylabel('Accuracy')\n",
    "plt.title('Comparison of Classifier Accuracies')\n",
    "\n",
    "# Display the accuracy values on top of the bars\n",
    "for i, v in enumerate(accuracies):\n",
    "    plt.text(i, v + 0.01, f'{v:.4f}', ha='center', va='bottom', fontsize=12)\n",
    "\n",
    "# Show the plot\n",
    "plt.show()\n"
   ]
  },
  {
   "cell_type": "markdown",
   "id": "f0b03b4a-b298-4e14-9764-a16256941cda",
   "metadata": {},
   "source": [
    "# Prediction the Gender form the Name "
   ]
  },
  {
   "cell_type": "code",
   "execution_count": 66,
   "id": "a836652b-9036-468a-8b44-2adfe4e20a3d",
   "metadata": {},
   "outputs": [
    {
     "name": "stdin",
     "output_type": "stream",
     "text": [
      "Enter a name to predict its gender:  Rachana\n"
     ]
    },
    {
     "name": "stdout",
     "output_type": "stream",
     "text": [
      "Naïve Bayes (Last Letter) Prediction: female\n",
      "Naïve Bayes (Last Two Letters) Prediction: female\n",
      "spaCy Model Prediction: female\n"
     ]
    }
   ],
   "source": [
    "# Function to predict gender using Naïve Bayes (Last Letter)\n",
    "def predict_gender_nb_last_letter(name):\n",
    "    features = extract_features(name, num_letters=1)\n",
    "    feature_vector = vectorizer1.transform([features])\n",
    "    prediction = nb_classifier1.predict(feature_vector)\n",
    "    return prediction[0]\n",
    "\n",
    "# Function to predict gender using Naïve Bayes (Last Two Letters)\n",
    "def predict_gender_nb_last_two_letters(name):\n",
    "    features = extract_features(name, num_letters=2)\n",
    "    feature_vector = vectorizer2.transform([features])\n",
    "    prediction = nb_classifier2.predict(feature_vector)\n",
    "    return prediction[0]\n",
    "\n",
    "# Function to predict gender using spaCy model\n",
    "def predict_gender_spacy(name):\n",
    "    doc = nlp(name)\n",
    "    predicted_label = max(doc.cats, key=doc.cats.get)\n",
    "    return predicted_label\n",
    "\n",
    "# Main function to take user input and predict gender\n",
    "def main():\n",
    "    # Take name input from the user\n",
    "    name = input(\"Enter a name to predict its gender: \")\n",
    "    \n",
    "    # Predict gender using Naïve Bayes (Last Letter)\n",
    "    nb_gender1 = predict_gender_nb_last_letter(name)\n",
    "    print(f\"Naïve Bayes (Last Letter) Prediction: {nb_gender1}\")\n",
    "    \n",
    "    # Predict gender using Naïve Bayes (Last Two Letters)\n",
    "    nb_gender2 = predict_gender_nb_last_two_letters(name)\n",
    "    print(f\"Naïve Bayes (Last Two Letters) Prediction: {nb_gender2}\")\n",
    "    \n",
    "    # Predict gender using spaCy model\n",
    "    spacy_gender = predict_gender_spacy(name)\n",
    "    print(f\"spaCy Model Prediction: {spacy_gender}\")\n",
    "\n",
    "if __name__ == \"__main__\":\n",
    "    main()\n"
   ]
  },
  {
   "cell_type": "code",
   "execution_count": 70,
   "id": "d3caa909-ae30-4d48-8e51-caa70166cb7e",
   "metadata": {},
   "outputs": [
    {
     "name": "stdin",
     "output_type": "stream",
     "text": [
      "Enter a name to predict its gender (or type 'exit' to stop):  Rachana \n"
     ]
    },
    {
     "name": "stdout",
     "output_type": "stream",
     "text": [
      "Naïve Bayes (Last Letter) Prediction: female\n",
      "Naïve Bayes (Last Two Letters) Prediction: female\n",
      "spaCy Model Prediction: female\n",
      "\n",
      "\n"
     ]
    },
    {
     "name": "stdin",
     "output_type": "stream",
     "text": [
      "Enter a name to predict its gender (or type 'exit' to stop):  Ritesh\n"
     ]
    },
    {
     "name": "stdout",
     "output_type": "stream",
     "text": [
      "Naïve Bayes (Last Letter) Prediction: female\n",
      "Naïve Bayes (Last Two Letters) Prediction: male\n",
      "spaCy Model Prediction: female\n",
      "\n",
      "\n"
     ]
    },
    {
     "name": "stdin",
     "output_type": "stream",
     "text": [
      "Enter a name to predict its gender (or type 'exit' to stop):  Prabhavati\n"
     ]
    },
    {
     "name": "stdout",
     "output_type": "stream",
     "text": [
      "Naïve Bayes (Last Letter) Prediction: female\n",
      "Naïve Bayes (Last Two Letters) Prediction: female\n",
      "spaCy Model Prediction: female\n",
      "\n",
      "\n"
     ]
    },
    {
     "name": "stdin",
     "output_type": "stream",
     "text": [
      "Enter a name to predict its gender (or type 'exit' to stop):  Ramesh \n"
     ]
    },
    {
     "name": "stdout",
     "output_type": "stream",
     "text": [
      "Naïve Bayes (Last Letter) Prediction: female\n",
      "Naïve Bayes (Last Two Letters) Prediction: female\n",
      "spaCy Model Prediction: male\n",
      "\n",
      "\n"
     ]
    },
    {
     "name": "stdin",
     "output_type": "stream",
     "text": [
      "Enter a name to predict its gender (or type 'exit' to stop):  Exit\n"
     ]
    },
    {
     "name": "stdout",
     "output_type": "stream",
     "text": [
      "Exiting the program.\n"
     ]
    }
   ],
   "source": [
    "def main():\n",
    "    while True:\n",
    "        # Take name input from the user\n",
    "        name = input(\"Enter a name to predict its gender (or type 'exit' to stop): \")\n",
    "        \n",
    "        # Exit the loop if the user types 'exit'\n",
    "        if name.lower() == 'exit':\n",
    "            print(\"Exiting the program.\")\n",
    "            break\n",
    "        \n",
    "        # Predict gender using Naïve Bayes (Last Letter)\n",
    "        nb_gender1 = predict_gender_nb_last_letter(name)\n",
    "        print(f\"Naïve Bayes (Last Letter) Prediction: {nb_gender1}\")\n",
    "        \n",
    "        # Predict gender using Naïve Bayes (Last Two Letters)\n",
    "        nb_gender2 = predict_gender_nb_last_two_letters(name)\n",
    "        print(f\"Naïve Bayes (Last Two Letters) Prediction: {nb_gender2}\")\n",
    "        \n",
    "        # Predict gender using spaCy model\n",
    "        spacy_gender = predict_gender_spacy(name)\n",
    "        print(f\"spaCy Model Prediction: {spacy_gender}\")\n",
    "        \n",
    "        print(\"\\n\")  # Print a new line for better readability\n",
    "\n",
    "if __name__ == \"__main__\":\n",
    "    main()\n"
   ]
  },
  {
   "cell_type": "markdown",
   "id": "a5b1d17a-c128-4c97-a0e7-02f49574f1d4",
   "metadata": {},
   "source": [
    "# Observations and Inferences"
   ]
  },
  {
   "cell_type": "markdown",
   "id": "86c9fcef-fe7e-45d8-8b84-ebcc6a67a4c2",
   "metadata": {},
   "source": [
    "# Gender Prediction Models:\n",
    "I included three different methods for gender-based predictions based on names: \n",
    "\n",
    "1.Naïve Bayes (Last Letter): This method utilizes a simple feature extraction through the last letter of the name.\n",
    "\n",
    "\n",
    "2.Naïve Bayes (Last Two Letters): The last two letters are used for feature extraction.\n",
    "\n",
    "\n",
    "3.spaCy Classifier: This is a more complex version by using the spaCy NLP library to classify gender. \n",
    "\n",
    "\n",
    "\n",
    "# Training and Evaluation:\n",
    "I train Naïve Bayes on the features of name extracted to either the last letter or last two letters and evaluate using accuracy metrics.\n",
    "Training the spaCy model requires building a text classification pipeline, using labels for male and female genders, and evaluating the classifier's performance.\n",
    "\n",
    "\n",
    "\n",
    "a.User Interaction:\n",
    "I have come up with a very user-friendly main() function where users can input names and receive predictions from all three models.\n",
    "The program is interactive and will accept more than one name input, with an exit option when the user types in exit.\n",
    "\n",
    "\n",
    "b.Accuracy and Results:\n",
    "The accuracy scores and performance of the models are highly dependent on the feature set and the training data.\n",
    "Naïve Bayes models tend to work pretty well if focusing on simple features such as the last letter or last two letters of the name.\n",
    "spaCy provides a more sophisticated approach that requires training a classifier and is computationally more intensive.\n",
    "\n",
    "\n",
    "c.Feature Extraction:\n",
    "The model relies on simple string features (last letter, last two letters) that seem to work very well for gender classification in lots of cases.\n",
    "Choice of feature length (1 or 2 letters) can potentially impact the performance, with the last two letters potentially offering greater discriminative power.\n"
   ]
  },
  {
   "cell_type": "markdown",
   "id": "54656aa8-6011-488e-a358-7f68e17dabd6",
   "metadata": {},
   "source": [
    "Model Performance:\n",
    "The Naïve Bayes classifier using the last two letters might have higher accuracy because it uses more information than just the last letter, potentially making it more discriminative.\n",
    "spaCy might outperform Naïve Bayes when it comes to handling complex patterns in names due to its use of more sophisticated machine learning techniques. However, it requires more training and computational resources\n",
    "\n",
    "User-Friendliness:\n",
    "The looped input feature in the main() function is a great user-friendly addition, allowing for continuous predictions without restarting the program.\n",
    "\n",
    "Applicability:\n",
    "The Naïve Bayes approach is simpler and might be sufficient for quick predictions in applications where performance isn't critical or when resources are limited.\n",
    "The spaCy classifier would be a better choice for larger datasets or applications that demand higher accuracy, especially when more complex patterns might exist in the data."
   ]
  },
  {
   "cell_type": "markdown",
   "id": "0caa1337-005d-47d6-882f-b2e3250a7c2f",
   "metadata": {},
   "source": [
    "# Observation :\n",
    "1. spaCy Classifier Accuracy: 91.00%\n",
    "   \n",
    "The spaCy model has demonstrated impressive performance with an accuracy of 91%. This result highlights the effectiveness of spaCy's deep learning-based approach in gender prediction based on names. Its ability to learn complex patterns and nuances in the data, particularly through its Text Classification pipeline, suggests that the model excels in capturing subtle relationships and generalizing well across different data points. The robust architecture and optimization strategies used by spaCy contributed to this high accuracy.\n",
    "\n",
    "2. Naïve Bayes (SKlearn) Accuracy: 76.14%\n",
    "\n",
    "On the other hand, the Naïve Bayes classifier, implemented using Scikit-learn, achieved an accuracy of approximately 76.14%. While this performance is decent, it lags behind the deep learning-based spaCy model. The relatively lower accuracy can be attributed to Naïve Bayes' reliance on simpler features, specifically the last 1 or 2 letters of the name. While Naïve Bayes is an efficient probabilistic model that works well with independent features, it falls short in capturing the complex and interconnected patterns often present in natural language tasks.\n",
    "\n",
    "# Comparative Analysis of the Two Models\n",
    "\n",
    "spaCy Model: The deep learning model excels at learning more complex relationships between names and genders. By leveraging continuous representations of features and a sophisticated neural network architecture, spaCy is capable of understanding nuanced patterns that Naïve Bayes cannot.\n",
    "\n",
    "Naïve Bayes Model: While Naïve Bayes is a simpler and faster algorithm, it is limited by the features it uses. The use of only the last 1 or 2 letters of a name as features means it misses out on capturing broader linguistic patterns that could improve accuracy.\n",
    "\n",
    "# Inferences\n",
    "\n",
    "Feature Complexity: The superior performance of spaCy is attributed to its ability to learn from more complex and varied features within the names. Naïve Bayes, however, relies on a basic feature set, making it less capable of capturing the complex relationships that a deep learning model can.\n",
    "\n",
    "Model Selection: Given its high accuracy, spaCy is the preferred model for this task, especially when accurate predictions are essential. Naïve Bayes, with its simpler and computationally efficient design, can be useful in scenarios where speed is prioritized over accuracy.\n",
    "\n",
    "Generalization: SpaCy's high accuracy indicates that it is likely to generalize better to new, unseen data compared to the Naïve Bayes model, which may be more prone to overfitting due to its simplicity.\n",
    "\n",
    "# Conclusion:\n",
    "spaCy offers a significantly higher accuracy of 91% and should be the model of choice when accuracy is critical. Its ability to learn complex relationships between names and genders makes it ideal for applications requiring precise predictions.\n",
    "Naïve Bayes, while offering a faster and computationally lighter alternative, delivers a lower accuracy of 76.14%. It may be suited for simpler tasks or when computational resources are constrained, but for more reliable gender prediction based on names, spaCy is clearly the superior option."
   ]
  },
  {
   "cell_type": "markdown",
   "id": "a1c3ec7b-7040-4997-b33d-afe3650c56aa",
   "metadata": {},
   "source": [
    "# Future Improvements:\n",
    "\n",
    "Incorporating more advanced feature engineering (e.g., phonetic features, name frequency) could further improve accuracy.\n",
    "You may explore fine-tuning spaCy’s model or even integrating it with other machine learning algorithms to improve its predictive power."
   ]
  },
  {
   "cell_type": "code",
   "execution_count": null,
   "id": "87d7dc84-4fb6-4e86-a114-b9b84ddec2b9",
   "metadata": {},
   "outputs": [],
   "source": []
  }
 ],
 "metadata": {
  "kernelspec": {
   "display_name": "Python 3 (ipykernel)",
   "language": "python",
   "name": "python3"
  },
  "language_info": {
   "codemirror_mode": {
    "name": "ipython",
    "version": 3
   },
   "file_extension": ".py",
   "mimetype": "text/x-python",
   "name": "python",
   "nbconvert_exporter": "python",
   "pygments_lexer": "ipython3",
   "version": "3.11.7"
  },
  "widgets": {
   "application/vnd.jupyter.widget-state+json": {
    "state": {},
    "version_major": 2,
    "version_minor": 0
   }
  }
 },
 "nbformat": 4,
 "nbformat_minor": 5
}
